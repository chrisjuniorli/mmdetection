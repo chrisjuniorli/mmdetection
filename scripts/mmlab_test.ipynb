{
 "cells": [
  {
   "cell_type": "code",
   "execution_count": 16,
   "metadata": {},
   "outputs": [],
   "source": [
    "import torch\n",
    "import torch.nn as nn"
   ]
  },
  {
   "cell_type": "code",
   "execution_count": 17,
   "metadata": {},
   "outputs": [],
   "source": [
    "a = torch.tensor([1,0,1,1,0,1,0,1,1])\n",
    "f1 = a.nonzero().reshape(-1)\n",
    "f2 = f1[2:5]"
   ]
  },
  {
   "cell_type": "code",
   "execution_count": 3,
   "metadata": {
    "scrolled": true
   },
   "outputs": [
    {
     "data": {
      "text/plain": [
       "tensor([0, 2, 3, 5, 7, 8])"
      ]
     },
     "execution_count": 3,
     "metadata": {},
     "output_type": "execute_result"
    }
   ],
   "source": [
    "f1"
   ]
  },
  {
   "cell_type": "code",
   "execution_count": 4,
   "metadata": {},
   "outputs": [
    {
     "data": {
      "text/plain": [
       "tensor([3, 5, 7])"
      ]
     },
     "execution_count": 4,
     "metadata": {},
     "output_type": "execute_result"
    }
   ],
   "source": [
    "f2"
   ]
  },
  {
   "cell_type": "code",
   "execution_count": 64,
   "metadata": {},
   "outputs": [],
   "source": [
    "for i in range(len(f2)):\n",
    "    f1 = f1[f1!=f2[i]]"
   ]
  },
  {
   "cell_type": "code",
   "execution_count": 65,
   "metadata": {},
   "outputs": [
    {
     "data": {
      "text/plain": [
       "tensor([0, 2, 7, 8])"
      ]
     },
     "execution_count": 65,
     "metadata": {},
     "output_type": "execute_result"
    }
   ],
   "source": [
    "f1"
   ]
  },
  {
   "cell_type": "code",
   "execution_count": 8,
   "metadata": {},
   "outputs": [
    {
     "data": {
      "text/plain": [
       "tensor([7, 8])"
      ]
     },
     "execution_count": 8,
     "metadata": {},
     "output_type": "execute_result"
    }
   ],
   "source": [
    "f1[f2]"
   ]
  },
  {
   "cell_type": "code",
   "execution_count": 17,
   "metadata": {},
   "outputs": [
    {
     "data": {
      "text/plain": [
       "tensor([0, 0, 0, 0, 0, 0, 0, 1, 1])"
      ]
     },
     "execution_count": 17,
     "metadata": {},
     "output_type": "execute_result"
    }
   ],
   "source": [
    "a"
   ]
  },
  {
   "cell_type": "code",
   "execution_count": 27,
   "metadata": {},
   "outputs": [
    {
     "data": {
      "text/plain": [
       "tensor([[[0, 1, 2, 3, 4, 5, 6, 7, 8, 9]],\n",
       "\n",
       "        [[0, 1, 2, 3, 4, 5, 6, 7, 8, 9]],\n",
       "\n",
       "        [[0, 1, 2, 3, 4, 5, 6, 7, 8, 9]],\n",
       "\n",
       "        [[0, 1, 2, 3, 4, 5, 6, 7, 8, 9]],\n",
       "\n",
       "        [[0, 1, 2, 3, 4, 5, 6, 7, 8, 9]],\n",
       "\n",
       "        [[0, 1, 2, 3, 4, 5, 6, 7, 8, 9]],\n",
       "\n",
       "        [[0, 1, 2, 3, 4, 5, 6, 7, 8, 9]],\n",
       "\n",
       "        [[0, 1, 2, 3, 4, 5, 6, 7, 8, 9]],\n",
       "\n",
       "        [[0, 1, 2, 3, 4, 5, 6, 7, 8, 9]],\n",
       "\n",
       "        [[0, 1, 2, 3, 4, 5, 6, 7, 8, 9]]])"
      ]
     },
     "execution_count": 27,
     "metadata": {},
     "output_type": "execute_result"
    }
   ],
   "source": [
    "x1[:, None]"
   ]
  },
  {
   "cell_type": "code",
   "execution_count": 2,
   "metadata": {},
   "outputs": [],
   "source": [
    "a =  torch.tensor([0.1, 0.5, 0.4, 0.3]).reshape(1, -1)"
   ]
  },
  {
   "cell_type": "code",
   "execution_count": 3,
   "metadata": {},
   "outputs": [
    {
     "data": {
      "text/plain": [
       "tensor([[0.1000, 0.5000, 0.4000, 0.3000]])"
      ]
     },
     "execution_count": 3,
     "metadata": {},
     "output_type": "execute_result"
    }
   ],
   "source": [
    "a"
   ]
  },
  {
   "cell_type": "code",
   "execution_count": 4,
   "metadata": {},
   "outputs": [],
   "source": [
    "b= torch.tensor([2])"
   ]
  },
  {
   "cell_type": "code",
   "execution_count": 5,
   "metadata": {},
   "outputs": [
    {
     "data": {
      "text/plain": [
       "tensor([2])"
      ]
     },
     "execution_count": 5,
     "metadata": {},
     "output_type": "execute_result"
    }
   ],
   "source": [
    "b"
   ]
  },
  {
   "cell_type": "code",
   "execution_count": 5,
   "metadata": {},
   "outputs": [
    {
     "data": {
      "text/plain": [
       "torch.Size([9])"
      ]
     },
     "execution_count": 5,
     "metadata": {},
     "output_type": "execute_result"
    }
   ],
   "source": [
    "a.shape"
   ]
  },
  {
   "cell_type": "code",
   "execution_count": 37,
   "metadata": {},
   "outputs": [],
   "source": [
    "b = a.expand(20,-1)"
   ]
  },
  {
   "cell_type": "code",
   "execution_count": 38,
   "metadata": {},
   "outputs": [
    {
     "data": {
      "text/plain": [
       "tensor([[1, 0, 1, 1, 0, 1, 0, 1, 1],\n",
       "        [1, 0, 1, 1, 0, 1, 0, 1, 1],\n",
       "        [1, 0, 1, 1, 0, 1, 0, 1, 1],\n",
       "        [1, 0, 1, 1, 0, 1, 0, 1, 1],\n",
       "        [1, 0, 1, 1, 0, 1, 0, 1, 1],\n",
       "        [1, 0, 1, 1, 0, 1, 0, 1, 1],\n",
       "        [1, 0, 1, 1, 0, 1, 0, 1, 1],\n",
       "        [1, 0, 1, 1, 0, 1, 0, 1, 1],\n",
       "        [1, 0, 1, 1, 0, 1, 0, 1, 1],\n",
       "        [1, 0, 1, 1, 0, 1, 0, 1, 1],\n",
       "        [1, 0, 1, 1, 0, 1, 0, 1, 1],\n",
       "        [1, 0, 1, 1, 0, 1, 0, 1, 1],\n",
       "        [1, 0, 1, 1, 0, 1, 0, 1, 1],\n",
       "        [1, 0, 1, 1, 0, 1, 0, 1, 1],\n",
       "        [1, 0, 1, 1, 0, 1, 0, 1, 1],\n",
       "        [1, 0, 1, 1, 0, 1, 0, 1, 1],\n",
       "        [1, 0, 1, 1, 0, 1, 0, 1, 1],\n",
       "        [1, 0, 1, 1, 0, 1, 0, 1, 1],\n",
       "        [1, 0, 1, 1, 0, 1, 0, 1, 1],\n",
       "        [1, 0, 1, 1, 0, 1, 0, 1, 1]])"
      ]
     },
     "execution_count": 38,
     "metadata": {},
     "output_type": "execute_result"
    }
   ],
   "source": [
    "b"
   ]
  },
  {
   "cell_type": "code",
   "execution_count": 40,
   "metadata": {},
   "outputs": [
    {
     "data": {
      "text/plain": [
       "torch.Size([20, 9])"
      ]
     },
     "execution_count": 40,
     "metadata": {},
     "output_type": "execute_result"
    }
   ],
   "source": [
    "b.shape"
   ]
  },
  {
   "cell_type": "code",
   "execution_count": 43,
   "metadata": {},
   "outputs": [],
   "source": [
    "c = b.transpose(0,1)"
   ]
  },
  {
   "cell_type": "code",
   "execution_count": 44,
   "metadata": {},
   "outputs": [
    {
     "data": {
      "text/plain": [
       "torch.Size([9, 20])"
      ]
     },
     "execution_count": 44,
     "metadata": {},
     "output_type": "execute_result"
    }
   ],
   "source": [
    "c.shape"
   ]
  },
  {
   "cell_type": "code",
   "execution_count": null,
   "metadata": {},
   "outputs": [],
   "source": []
  }
 ],
 "metadata": {
  "kernelspec": {
   "display_name": "mmlab",
   "language": "python",
   "name": "mmlab"
  },
  "language_info": {
   "codemirror_mode": {
    "name": "ipython",
    "version": 3
   },
   "file_extension": ".py",
   "mimetype": "text/x-python",
   "name": "python",
   "nbconvert_exporter": "python",
   "pygments_lexer": "ipython3",
   "version": "3.7.4"
  }
 },
 "nbformat": 4,
 "nbformat_minor": 2
}
